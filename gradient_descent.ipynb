{
 "cells": [
  {
   "cell_type": "code",
   "execution_count": 1,
   "metadata": {},
   "outputs": [],
   "source": [
    "from matplotlib import pyplot as plt"
   ]
  },
  {
   "cell_type": "code",
   "execution_count": 2,
   "metadata": {},
   "outputs": [],
   "source": [
    "import grad_desc as gd\n",
    "import pprint"
   ]
  },
  {
   "cell_type": "markdown",
   "metadata": {},
   "source": [
    "# **1 e 2**\n",
    "\n",
    "## \"Rode o mesmo programa nos dados contendo anos de escolaridade (primeira coluna) versus salário (segunda coluna).\"\n",
    "\n",
    "## \"Modifique o código original para imprimir o RSS a cada iteração do gradiente descendente.\""
   ]
  },
  {
   "cell_type": "code",
   "execution_count": null,
   "metadata": {},
   "outputs": [],
   "source": [
    "results = gd.run(messages = True)"
   ]
  },
  {
   "cell_type": "markdown",
   "metadata": {},
   "source": [
    "# **3**\n",
    "\n",
    "## \"O que acontece com o RSS ao longo das iterações (aumenta ou diminui) se você usar 1000 iterações? Plote o RSS vs número de iterações.\""
   ]
  },
  {
   "cell_type": "code",
   "execution_count": null,
   "metadata": {},
   "outputs": [],
   "source": [
    "plt.plot(results[\"iterations\"], results['RSS'])\n",
    "plt.title(\"Evolução do RSS ao longo das iterações\")\n",
    "plt.xlabel(\"Iteração\")\n",
    "plt.ylabel(\"RSS\")\n",
    "plt.show()"
   ]
  },
  {
   "cell_type": "markdown",
   "metadata": {},
   "source": [
    "O RSS diminui com as iterações."
   ]
  },
  {
   "cell_type": "markdown",
   "metadata": {},
   "source": [
    "# **4**\n",
    "\n",
    "## Teste valores diferentes do número de iterações e learning_rate até que w0 e w1 sejam aproximadamente iguais a -39 e 5 respectivamente. Reporte os valores do número de iterações e learning_rate usados para atingir esses valores.\n",
    "\n",
    "Após algumas explorações, encontramos os valores de\n",
    "learning rate = 0.00097\n",
    "Número de Iterações = 15000\n",
    "\n",
    "Que possuem os valores mais aproximados w0 e w1 de -39 e 5 respectivamente."
   ]
  },
  {
   "cell_type": "markdown",
   "metadata": {},
   "source": [
    "# **5**\n",
    "\n",
    "## O algoritmo do vídeo usa o número de iterações como critério de parada. Mude o algoritmo para considerar um critério de parada que é relacionado ao tamanho do gradiente (como no algoritmo apresentado em sala). Plote o tamanho do gradiente vs número de iterações."
   ]
  },
  {
   "cell_type": "code",
   "execution_count": null,
   "metadata": {},
   "outputs": [],
   "source": [
    "results = gd.run(messages = False,\n",
    "                 stopping_criteria = 2, gradient_threshold = 4)"
   ]
  },
  {
   "cell_type": "code",
   "execution_count": null,
   "metadata": {},
   "outputs": [],
   "source": [
    "plt.plot(results[\"iterations\"], results[\"gradient_size\"])\n",
    "plt.title(\"Tamanho do Gradiente por Iteração\")\n",
    "plt.xlabel(\"Número da Iteração\")\n",
    "plt.ylabel(\"Tamanho do Gradiente\")\n",
    "plt.show()"
   ]
  },
  {
   "cell_type": "markdown",
   "metadata": {},
   "source": [
    "# **6**\n",
    "\n",
    "## Ache um valor de tolerância que se aproxime dos valores dos parâmetros do item 4 acima. Que valor foi esse?\n",
    "\n",
    "Fixando o valor da *learning rate* no encontrado no item 4, faremos uma exploração de limites\n",
    "até um ponto que seja razoável."
   ]
  },
  {
   "cell_type": "code",
   "execution_count": 19,
   "metadata": {},
   "outputs": [
    {
     "data": {
      "image/png": "[encoded data removed]",
      "text/plain": [
       "<Figure size 432x288 with 1 Axes>"
      ]
     },
     "metadata": {},
     "output_type": "display_data"
    }
   ],
   "source": [
    "\n",
    "results = gd.run(messages = False, learning_rate = 0.0001,\n",
    "                stopping_criteria = 2, gradient_threshold = 3)\n",
    "import math\n",
    "\n",
    "plt.plot(range(results[\"n_iterations\"])[20:], list(map(math.log, results[\"gradient_norms\"][20:])))\n",
    "plt.yscale('log')\n",
    "plt.show()"
   ]
  },
  {
   "cell_type": "markdown",
   "metadata": {},
   "source": [
    "Podemos ter uma ideia de que quando o limite para o tamanho do gradiente se aproxima de 40, obtemos os valores desejados.\n",
    "\n",
    "De fato, podemos ver que ao executarmos o algoritmo com um limite de 39, obteremos:"
   ]
  },
  {
   "cell_type": "code",
   "execution_count": null,
   "metadata": {},
   "outputs": [],
   "source": [
    "results = gd.run(messages = False, learning_rate = 0.00097,\n",
    "                     stopping_criteria = 2, gradient_threshold = 39)\n",
    "print(\"w0: {0}\\nw1: {1}\".format(results['b'], results['m']))"
   ]
  },
  {
   "cell_type": "code",
   "execution_count": null,
   "metadata": {},
   "outputs": [],
   "source": [
    "Os valores não são exatamente os mesmos porém são suficientemente próximos."
   ]
  }
 ],
 "metadata": {
  "kernelspec": {
   "display_name": "Python 3",
   "language": "python",
   "name": "python3"
  },
  "language_info": {
   "codemirror_mode": {
    "name": "ipython",
    "version": 3
   },
   "file_extension": ".py",
   "mimetype": "text/x-python",
   "name": "python",
   "nbconvert_exporter": "python",
   "pygments_lexer": "ipython3",
   "version": "3.6.5"
  }
 },
 "nbformat": 4,
 "nbformat_minor": 2
}
