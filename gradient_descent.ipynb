{
 "cells": [
  {
   "cell_type": "code",
   "execution_count": 7,
   "metadata": {},
   "outputs": [],
   "source": [
    "from matplotlib import pyplot as plt"
   ]
  },
  {
   "cell_type": "code",
   "execution_count": 12,
   "metadata": {},
   "outputs": [],
   "source": [
    "import grad_desc as gd\n",
    "import pprint\n",
    "from datetime import datetime"
   ]
  },
  {
   "cell_type": "markdown",
   "metadata": {},
   "source": [
    "# **1 e 2**\n",
    "\n",
    "## \"Rode o mesmo programa nos dados contendo anos de escolaridade (primeira coluna) versus salário (segunda coluna).\"\n",
    "\n",
    "## \"Modifique o código original para imprimir o RSS a cada iteração do gradiente descendente.\""
   ]
  },
  {
   "cell_type": "code",
   "execution_count": null,
   "metadata": {},
   "outputs": [],
   "source": [
    "results = gd.run(messages = True)"
   ]
  },
  {
   "cell_type": "markdown",
   "metadata": {},
   "source": [
    "# **3**\n",
    "\n",
    "## \"O que acontece com o RSS ao longo das iterações (aumenta ou diminui) se você usar 1000 iterações? Plote o RSS vs número de iterações.\""
   ]
  },
  {
   "cell_type": "code",
   "execution_count": null,
   "metadata": {},
   "outputs": [],
   "source": [
    "plt.plot(results[\"iterations\"], results['RSS'])\n",
    "plt.title(\"Evolução do RSS ao longo das iterações\")\n",
    "plt.xlabel(\"Iteração\")\n",
    "plt.ylabel(\"RSS\")\n",
    "plt.show()"
   ]
  },
  {
   "cell_type": "markdown",
   "metadata": {},
   "source": [
    "O RSS diminui com as iterações."
   ]
  },
  {
   "cell_type": "markdown",
   "metadata": {},
   "source": [
    "# **4**\n",
    "\n",
    "## Teste valores diferentes do número de iterações e learning_rate até que w0 e w1 sejam aproximadamente iguais a -39 e 5 respectivamente. Reporte os valores do número de iterações e learning_rate usados para atingir esses valores.\n",
    "\n",
    "Após algumas explorações, encontramos os valores de\n",
    "learning rate = 0.00097\n",
    "Número de Iterações = 15000\n",
    "\n",
    "Que possuem os valores mais aproximados w0 e w1 de -39 e 5 respectivamente."
   ]
  },
  {
   "cell_type": "markdown",
   "metadata": {},
   "source": [
    "# **5**\n",
    "\n",
    "## O algoritmo do vídeo usa o número de iterações como critério de parada. Mude o algoritmo para considerar um critério de parada que é relacionado ao tamanho do gradiente (como no algoritmo apresentado em sala). Plote o tamanho do gradiente vs número de iterações."
   ]
  },
  {
   "cell_type": "code",
   "execution_count": null,
   "metadata": {},
   "outputs": [],
   "source": [
    "results = gd.run(messages = False, learning_rate = 0.0001,\n",
    "                stopping_criteria = 2, gradient_threshold = 3)\n",
    "\n",
    "plt.plot(range(results[\"n_iterations\"]), results[\"gradient_norms\"])\n",
    "plt.title(\"Tamanho do Gradiente por Iteração\")\n",
    "plt.xlabel(\"Número da Iteração\")\n",
    "plt.ylabel(\"Tamanho do Gradiente\")\n",
    "plt.show()"
   ]
  },
  {
   "cell_type": "markdown",
   "metadata": {},
   "source": [
    "Configurando um limite inferior de 3 para o tamanho do gradiente, podemos observar na visualização acima que o mesmo diminui até atingir nosso critério de convergência. Como o valor inicial do gradiente é muito alto, a visualização é prejudicada. Aplicando então uma função logaritmica, podemos visualizar melhor a evolução destes valores."
   ]
  },
  {
   "cell_type": "code",
   "execution_count": null,
   "metadata": {},
   "outputs": [],
   "source": [
    "import math\n",
    "\n",
    "plt.plot(range(results[\"n_iterations\"]), list(map(math.log, results[\"gradient_norms\"])))\n",
    "plt.yscale('log')\n",
    "plt.title(\"Tamanho do Gradiente por Iteração\")\n",
    "plt.xlabel(\"Número da Iteração\")\n",
    "plt.ylabel(\"Tamanho do Gradiente (Log)\")\n",
    "plt.show()"
   ]
  },
  {
   "cell_type": "markdown",
   "metadata": {},
   "source": [
    "# **6**\n",
    "\n",
    "## Ache um valor de tolerância que se aproxime dos valores dos parâmetros do item 4 acima. Que valor foi esse?\n",
    "\n",
    "Fixando o valor da *learning rate* no encontrado no item 4, faremos uma exploração de limites\n",
    "até um ponto que seja razoável."
   ]
  },
  {
   "cell_type": "markdown",
   "metadata": {},
   "source": [
    "Podemos ter uma ideia de que quando o limite para o tamanho do gradiente se aproxima de 40, obtemos os valores desejados.\n",
    "\n",
    "De fato, podemos ver que ao executarmos o algoritmo com um limite de 39, obteremos:"
   ]
  },
  {
   "cell_type": "code",
   "execution_count": null,
   "metadata": {},
   "outputs": [],
   "source": [
    "threshold_range = []\n",
    "b_range = []\n",
    "m_range = []\n",
    "\n",
    "threshold = 2\n",
    "\n",
    "start_timestamp = datetime.now()\n",
    "while True:\n",
    "    threshold_range.append(threshold)\n",
    "    results = gd.run(messages = False, learning_rate = 0.001,\n",
    "                stopping_criteria = 2, gradient_threshold = threshold)\n",
    "    \n",
    "    b_range.append(results['b'])\n",
    "    m_range.append(results['m'])\n",
    "    \n",
    "    # Fazemos o teste utilizando uma tolerância de 1 unidade de diferença\n",
    "    if(abs(results['b'] - (-39)) <= 1 and abs(results['m'] - 5) <= 1):\n",
    "        ending_timestamp = datetime.now()\n",
    "        print(\"Após alguma experimentação, fixando um learning rate de 0.001, chegamos a um threshold de : \", threshold)\n",
    "        break\n",
    "        \n",
    "    threshold -= 0.05\n",
    "\n",
    "grad_threshold_running_time = (ending_timestamp - start_timestamp)\n",
    "\n",
    "plt.plot(threshold_range, b_range)\n",
    "plt.plot(threshold_range, m_range)\n",
    "plt.show()"
   ]
  },
  {
   "cell_type": "markdown",
   "metadata": {},
   "source": [
    "# **7**\n",
    "\n",
    "## Implemente a forma fechada (equações normais) de calcular os coeficientes de regressão (vide algoritmo nos slides). Compare o tempo de processamento com o gradiente descendente considerando sua solução do item 6."
   ]
  },
  {
   "cell_type": "markdown",
   "metadata": {},
   "source": [
    "Implementando as equações normais, obtemos um resultado ótimo de forma rápida."
   ]
  },
  {
   "cell_type": "code",
   "execution_count": 30,
   "metadata": {},
   "outputs": [
    {
     "name": "stdout",
     "output_type": "stream",
     "text": [
      "b: -39.44625667909617\n",
      "m: 5.599482874119919\n"
     ]
    }
   ],
   "source": [
    "start_timestamp = datetime.now()\n",
    "results = gd.run(messages = False, stopping_criteria = 3)\n",
    "ending_timestamp = datetime.now()\n",
    "normal_equations_running_time = (ending_timestamp - start_timestamp)\n",
    "\n",
    "print(\"b: {0}\\nm: {1}\".format(results['b'], results['m']))"
   ]
  },
  {
   "cell_type": "markdown",
   "metadata": {},
   "source": [
    "De fato, se compararmos os valores, vemos que há uma melhora considerável no desempenho."
   ]
  },
  {
   "cell_type": "code",
   "execution_count": 31,
   "metadata": {},
   "outputs": [
    {
     "name": "stdout",
     "output_type": "stream",
     "text": [
      "Gradiente com limite por norma:  34\n",
      "Equações normais:  0:00:00.001456\n",
      "2018-09-03 20:23:07.072474 2018-09-03 20:23:07.071018\n"
     ]
    }
   ],
   "source": [
    "print(\"Gradiente com limite por norma: \", grad_threshold_running_time)\n",
    "print(\"Equações normais: \", normal_equations_running_time)\n",
    "print(ending_timestamp, start_timestamp)"
   ]
  }
 ],
 "metadata": {
  "kernelspec": {
   "display_name": "Python 3",
   "language": "python",
   "name": "python3"
  },
  "language_info": {
   "codemirror_mode": {
    "name": "ipython",
    "version": 3
   },
   "file_extension": ".py",
   "mimetype": "text/x-python",
   "name": "python",
   "nbconvert_exporter": "python",
   "pygments_lexer": "ipython3",
   "version": "3.7.0"
  }
 },
 "nbformat": 4,
 "nbformat_minor": 2
}
